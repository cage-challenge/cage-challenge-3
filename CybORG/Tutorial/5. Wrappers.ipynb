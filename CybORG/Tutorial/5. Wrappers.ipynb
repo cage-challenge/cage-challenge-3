{
 "cells": [
  {
   "cell_type": "markdown",
   "metadata": {},
   "source": [
    "### Simple Wrappers"
   ]
  },
  {
   "cell_type": "code",
   "execution_count": 1,
   "metadata": {},
   "outputs": [
    {
     "name": "stderr",
     "output_type": "stream",
     "text": [
      "/home/david/anaconda3/envs/ai/lib/python3.9/site-packages/gym/utils/seeding.py:47: DeprecationWarning: \u001b[33mWARN: Function `rng.randint(low, [high, size, dtype])` is marked as deprecated and will be removed in the future. Please use `rng.integers(low, [high, size, dtype])` instead.\u001b[0m\n",
      "  deprecation(\n"
     ]
    }
   ],
   "source": [
    "import inspect\n",
    "from pprint import pprint\n",
    "from os.path import dirname\n",
    "from CybORG import CybORG\n",
    "from CybORG.Agents.Wrappers import *\n",
    "from CybORG.Simulator.Scenarios import FileReaderScenarioGenerator\n",
    "\n",
    "path = inspect.getfile(CybORG)\n",
    "path = dirname(path) + f'/Simulator/Scenarios/scenario_files/Scenario1b.yaml'\n",
    "sg = FileReaderScenarioGenerator(path)\n",
    "\n",
    "cyborg = CybORG(scenario_generator=sg)"
   ]
  },
  {
   "cell_type": "markdown",
   "metadata": {},
   "source": [
    "Our demonstrations have mostly been with native CybORG, but we will now demonstrate how AI can be assisted by the use of Wrappers.\n",
    "\n",
    "Our first Wrapper is EnumActionWrapper, which calculates all the possible actions and returns the action space as the number of such actions. This gives a relatively large number of actions for both Blue and Red team."
   ]
  },
  {
   "cell_type": "code",
   "execution_count": 2,
   "metadata": {},
   "outputs": [
    {
     "name": "stdout",
     "output_type": "stream",
     "text": [
      "Blue action space: 66\n",
      "Red action space: 68\n"
     ]
    }
   ],
   "source": [
    "env = EnumActionWrapper(cyborg)\n",
    "\n",
    "results = env.reset(agent='Blue')\n",
    "action_space = results.action_space\n",
    "print('Blue action space:',action_space)\n",
    "\n",
    "results = env.reset(agent='Red')\n",
    "action_space = results.action_space\n",
    "print('Red action space:', action_space)"
   ]
  },
  {
   "cell_type": "markdown",
   "metadata": {},
   "source": [
    "We can do a similar thing for the observation space. The FlatFixedWrapper parses the internal state of CybORG and turns it into a list of floats, which can easily be converted into a vector. Unfortunately, this vector is extremely long, with length over 11,000!"
   ]
  },
  {
   "cell_type": "code",
   "execution_count": 3,
   "metadata": {},
   "outputs": [
    {
     "name": "stdout",
     "output_type": "stream",
     "text": [
      "<class 'list'>\n",
      "11293\n"
     ]
    }
   ],
   "source": [
    "env = FixedFlatWrapper(cyborg)\n",
    "\n",
    "results = env.reset()\n",
    "obs = results.observation\n",
    "print(type(obs))\n",
    "print(len(obs))"
   ]
  },
  {
   "cell_type": "markdown",
   "metadata": {},
   "source": [
    "The OpenAIGymWrapper converts the output of FlatFixedWrapper to a numpy array as well as conforming to other parts of the OpenAI Gym API. It requires FlatFixedWrapper in order to function and should always be the outermost of the provided wrappers. Note it also performs the functions of the EnumActionWrapper You must also specify an agent parameter and explitly specify the environment parameter."
   ]
  },
  {
   "cell_type": "code",
   "execution_count": 4,
   "metadata": {},
   "outputs": [
    {
     "name": "stdout",
     "output_type": "stream",
     "text": [
      "Observation: [ 0.6666667  0.         1.        ... -1.        -1.        -1.       ]\n",
      "-------------------------------------------------------------------------\n",
      "Action_Space: Discrete(66)\n",
      "-------------------------------------------------------------------------\n",
      "Observation Space: Box(-1.0, 3.0, (11293,), float32)\n"
     ]
    }
   ],
   "source": [
    "wrappers = FixedFlatWrapper(cyborg)\n",
    "env = OpenAIGymWrapper(env=wrappers,agent_name='Blue')\n",
    "\n",
    "obs = env.reset()\n",
    "print('Observation:',obs)\n",
    "print(73*'-')\n",
    "print('Action_Space:',env.action_space)\n",
    "print(73*'-')\n",
    "print('Observation Space:',env.observation_space)"
   ]
  },
  {
   "cell_type": "markdown",
   "metadata": {},
   "source": [
    "### Table Wrappers"
   ]
  },
  {
   "cell_type": "markdown",
   "metadata": {},
   "source": [
    "The 'Table Wrappers' attempt to use basic logic to infer a human-friendly picture of the state by keeping track of past observations. This allows for a greatly simplified state space and much greater human readibility. However, it mercilessly exploits the current limitations of Scenario 1b and thus would have limited use on real-world cyber problems.\n",
    "\n",
    "The first wrapper is the TrueTableWrapper, which modifies the get_agent_state method to return the true state in the form of the table."
   ]
  },
  {
   "cell_type": "code",
   "execution_count": 5,
   "metadata": {},
   "outputs": [
    {
     "name": "stdout",
     "output_type": "stream",
     "text": [
      "+----------------+-------------+-------------+-------+---------+------------+\n",
      "|     Subnet     |  IP Address |   Hostname  | Known | Scanned |   Access   |\n",
      "+----------------+-------------+-------------+-------+---------+------------+\n",
      "| 10.0.106.64/28 | 10.0.106.69 |   Defender  | False |  False  |    None    |\n",
      "| 10.0.106.64/28 | 10.0.106.76 | Enterprise0 | False |  False  |    None    |\n",
      "| 10.0.106.64/28 | 10.0.106.77 | Enterprise1 | False |  False  |    None    |\n",
      "| 10.0.106.64/28 | 10.0.106.71 | Enterprise2 | False |  False  |    None    |\n",
      "| 10.0.35.128/28 | 10.0.35.138 |   Op_Host0  | False |  False  |    None    |\n",
      "| 10.0.35.128/28 | 10.0.35.129 |   Op_Host1  | False |  False  |    None    |\n",
      "| 10.0.35.128/28 | 10.0.35.140 |   Op_Host2  | False |  False  |    None    |\n",
      "| 10.0.35.128/28 | 10.0.35.130 |  Op_Server0 | False |  False  |    None    |\n",
      "|  10.0.8.32/28  |  10.0.8.34  |    User0    |  True |  False  | Privileged |\n",
      "|  10.0.8.32/28  |  10.0.8.36  |    User1    | False |  False  |    None    |\n",
      "|  10.0.8.32/28  |  10.0.8.37  |    User2    | False |  False  |    None    |\n",
      "|  10.0.8.32/28  |  10.0.8.33  |    User3    | False |  False  |    None    |\n",
      "|  10.0.8.32/28  |  10.0.8.40  |    User4    | False |  False  |    None    |\n",
      "+----------------+-------------+-------------+-------+---------+------------+\n"
     ]
    }
   ],
   "source": [
    "env = TrueTableWrapper(cyborg)\n",
    "\n",
    "env.reset()\n",
    "\n",
    "true_table = env.get_agent_state('True')\n",
    "print(true_table)"
   ]
  },
  {
   "cell_type": "markdown",
   "metadata": {},
   "source": [
    "The BlueTableWrapper provides similar functionality for the blue observation."
   ]
  },
  {
   "cell_type": "code",
   "execution_count": 6,
   "metadata": {},
   "outputs": [
    {
     "name": "stdout",
     "output_type": "stream",
     "text": [
      "+-----------------+--------------+-------------+----------+-------------+\n",
      "|      Subnet     |  IP Address  |   Hostname  | Activity | Compromised |\n",
      "+-----------------+--------------+-------------+----------+-------------+\n",
      "|  10.0.32.64/28  |  10.0.32.71  |   Defender  |   None   |      No     |\n",
      "|  10.0.32.64/28  |  10.0.32.70  | Enterprise0 |   None   |      No     |\n",
      "|  10.0.32.64/28  |  10.0.32.74  | Enterprise1 |   None   |      No     |\n",
      "|  10.0.32.64/28  |  10.0.32.75  | Enterprise2 |   None   |      No     |\n",
      "|  10.0.50.176/28 | 10.0.50.183  |   Op_Host0  |   None   |      No     |\n",
      "|  10.0.50.176/28 | 10.0.50.182  |   Op_Host1  |   None   |      No     |\n",
      "|  10.0.50.176/28 | 10.0.50.187  |   Op_Host2  |   None   |      No     |\n",
      "|  10.0.50.176/28 | 10.0.50.180  |  Op_Server0 |   None   |      No     |\n",
      "| 10.0.144.240/28 | 10.0.144.243 |    User0    |   None   |      No     |\n",
      "| 10.0.144.240/28 | 10.0.144.254 |    User1    |   None   |      No     |\n",
      "| 10.0.144.240/28 | 10.0.144.253 |    User2    |   None   |      No     |\n",
      "| 10.0.144.240/28 | 10.0.144.248 |    User3    |   None   |      No     |\n",
      "| 10.0.144.240/28 | 10.0.144.245 |    User4    |   None   |      No     |\n",
      "+-----------------+--------------+-------------+----------+-------------+\n",
      "+-----------------+--------------+-------------+----------+-------------+\n",
      "|      Subnet     |  IP Address  |   Hostname  | Activity | Compromised |\n",
      "+-----------------+--------------+-------------+----------+-------------+\n",
      "|  10.0.32.64/28  |  10.0.32.71  |   Defender  |   None   |      No     |\n",
      "|  10.0.32.64/28  |  10.0.32.70  | Enterprise0 |   None   |      No     |\n",
      "|  10.0.32.64/28  |  10.0.32.74  | Enterprise1 |   None   |      No     |\n",
      "|  10.0.32.64/28  |  10.0.32.75  | Enterprise2 |   None   |      No     |\n",
      "|  10.0.50.176/28 | 10.0.50.183  |   Op_Host0  |   None   |      No     |\n",
      "|  10.0.50.176/28 | 10.0.50.182  |   Op_Host1  |   None   |      No     |\n",
      "|  10.0.50.176/28 | 10.0.50.187  |   Op_Host2  |   None   |      No     |\n",
      "|  10.0.50.176/28 | 10.0.50.180  |  Op_Server0 |   None   |      No     |\n",
      "| 10.0.144.240/28 | 10.0.144.243 |    User0    |   None   |      No     |\n",
      "| 10.0.144.240/28 | 10.0.144.254 |    User1    |   None   |      No     |\n",
      "| 10.0.144.240/28 | 10.0.144.253 |    User2    |   None   |      No     |\n",
      "| 10.0.144.240/28 | 10.0.144.248 |    User3    |   None   |      No     |\n",
      "| 10.0.144.240/28 | 10.0.144.245 |    User4    |   Scan   |      No     |\n",
      "+-----------------+--------------+-------------+----------+-------------+\n",
      "+-----------------+--------------+-------------+----------+-------------+\n",
      "|      Subnet     |  IP Address  |   Hostname  | Activity | Compromised |\n",
      "+-----------------+--------------+-------------+----------+-------------+\n",
      "|  10.0.32.64/28  |  10.0.32.71  |   Defender  |   None   |      No     |\n",
      "|  10.0.32.64/28  |  10.0.32.70  | Enterprise0 |   None   |      No     |\n",
      "|  10.0.32.64/28  |  10.0.32.74  | Enterprise1 |   None   |      No     |\n",
      "|  10.0.32.64/28  |  10.0.32.75  | Enterprise2 |   None   |      No     |\n",
      "|  10.0.50.176/28 | 10.0.50.183  |   Op_Host0  |   None   |      No     |\n",
      "|  10.0.50.176/28 | 10.0.50.182  |   Op_Host1  |   None   |      No     |\n",
      "|  10.0.50.176/28 | 10.0.50.187  |   Op_Host2  |   None   |      No     |\n",
      "|  10.0.50.176/28 | 10.0.50.180  |  Op_Server0 |   None   |      No     |\n",
      "| 10.0.144.240/28 | 10.0.144.243 |    User0    |   None   |      No     |\n",
      "| 10.0.144.240/28 | 10.0.144.254 |    User1    |   None   |      No     |\n",
      "| 10.0.144.240/28 | 10.0.144.253 |    User2    |   None   |      No     |\n",
      "| 10.0.144.240/28 | 10.0.144.248 |    User3    |   None   |      No     |\n",
      "| 10.0.144.240/28 | 10.0.144.245 |    User4    | Exploit  |     User    |\n",
      "+-----------------+--------------+-------------+----------+-------------+\n"
     ]
    }
   ],
   "source": [
    "from CybORG.Agents import B_lineAgent\n",
    "from CybORG.Simulator.Actions import Sleep\n",
    "cyborg = CybORG(sg, agents={'Red':B_lineAgent()})\n",
    "\n",
    "env = BlueTableWrapper(cyborg)\n",
    "\n",
    "results = env.reset(agent='Blue')\n",
    "\n",
    "for i in range(3):\n",
    "    results = env.step(agent='Blue')\n",
    "    blue_obs = results.observation\n",
    "    print(blue_obs)"
   ]
  },
  {
   "cell_type": "markdown",
   "metadata": {},
   "source": [
    "The table can also be converted into a vector. This is done by setting the output_mode parameter to 'vector'."
   ]
  },
  {
   "cell_type": "code",
   "execution_count": 7,
   "metadata": {},
   "outputs": [
    {
     "name": "stdout",
     "output_type": "stream",
     "text": [
      "[0 0 0 0 0 0 0 0 0 0 0 0 0 0 0 0 0 0 0 0 0 0 0 0 0 0 0 0 0 0 0 0 0 0 0 0 0\n",
      " 0 0 0 0 0 0 0 0 0 0 0 0 0 0 0]\n",
      "----------------------------------------------------------------------------\n",
      "[0 0 0 0 0 0 0 0 0 0 0 0 0 0 0 0 0 0 0 0 0 0 0 0 0 0 0 0 0 0 0 0 0 0 0 0 0\n",
      " 0 0 0 1 0 0 0 0 0 0 0 0 0 0 0]\n",
      "----------------------------------------------------------------------------\n",
      "[0 0 0 0 0 0 0 0 0 0 0 0 0 0 0 0 0 0 0 0 0 0 0 0 0 0 0 0 0 0 0 0 1 0 0 0 0\n",
      " 0 0 0 1 1 0 1 0 0 0 0 0 0 0 0]\n",
      "----------------------------------------------------------------------------\n"
     ]
    }
   ],
   "source": [
    "env = BlueTableWrapper(cyborg,output_mode='vector')\n",
    "\n",
    "env.reset(agent='Blue')\n",
    "for i in range(3):\n",
    "    results = env.step(agent='Blue')\n",
    "    blue_obs = results.observation\n",
    "    print(blue_obs)\n",
    "    print(76*'-')"
   ]
  },
  {
   "cell_type": "markdown",
   "metadata": {},
   "source": [
    "The RedTableWrapper is the Red Team version of the BlueTableWrapper."
   ]
  },
  {
   "cell_type": "code",
   "execution_count": 8,
   "metadata": {},
   "outputs": [
    {
     "name": "stdout",
     "output_type": "stream",
     "text": [
      "+----------------+-------------+----------+---------+------------+\n",
      "|     Subnet     |  IP Address | Hostname | Scanned |   Access   |\n",
      "+----------------+-------------+----------+---------+------------+\n",
      "| 10.0.19.240/28 | 10.0.19.246 |  User0   |  False  | Privileged |\n",
      "+----------------+-------------+----------+---------+------------+\n",
      "+----------------+-------------+-----------------+---------+------------+\n",
      "|     Subnet     |  IP Address |     Hostname    | Scanned |   Access   |\n",
      "+----------------+-------------+-----------------+---------+------------+\n",
      "| 10.0.19.240/28 | 10.0.19.241 | UNKNOWN_HOST: 3 |  False  |    None    |\n",
      "| 10.0.19.240/28 | 10.0.19.242 | UNKNOWN_HOST: 2 |  False  |    None    |\n",
      "| 10.0.19.240/28 | 10.0.19.246 |      User0      |  False  | Privileged |\n",
      "| 10.0.19.240/28 | 10.0.19.248 | UNKNOWN_HOST: 1 |  False  |    None    |\n",
      "| 10.0.19.240/28 | 10.0.19.252 | UNKNOWN_HOST: 0 |  False  |    None    |\n",
      "+----------------+-------------+-----------------+---------+------------+\n",
      "+----------------+-------------+-----------------+---------+------------+\n",
      "|     Subnet     |  IP Address |     Hostname    | Scanned |   Access   |\n",
      "+----------------+-------------+-----------------+---------+------------+\n",
      "| 10.0.19.240/28 | 10.0.19.241 | UNKNOWN_HOST: 3 |  False  |    None    |\n",
      "| 10.0.19.240/28 | 10.0.19.242 | UNKNOWN_HOST: 2 |   True  |    None    |\n",
      "| 10.0.19.240/28 | 10.0.19.246 |      User0      |  False  | Privileged |\n",
      "| 10.0.19.240/28 | 10.0.19.248 | UNKNOWN_HOST: 1 |  False  |    None    |\n",
      "| 10.0.19.240/28 | 10.0.19.252 | UNKNOWN_HOST: 0 |  False  |    None    |\n",
      "+----------------+-------------+-----------------+---------+------------+\n",
      "+----------------+-------------+-----------------+---------+------------+\n",
      "|     Subnet     |  IP Address |     Hostname    | Scanned |   Access   |\n",
      "+----------------+-------------+-----------------+---------+------------+\n",
      "| 10.0.19.240/28 | 10.0.19.241 | UNKNOWN_HOST: 3 |  False  |    None    |\n",
      "| 10.0.19.240/28 | 10.0.19.242 | UNKNOWN_HOST: 2 |   True  |    None    |\n",
      "| 10.0.19.240/28 | 10.0.19.246 |      User0      |  False  | Privileged |\n",
      "| 10.0.19.240/28 | 10.0.19.248 | UNKNOWN_HOST: 1 |  False  |    None    |\n",
      "| 10.0.19.240/28 | 10.0.19.252 | UNKNOWN_HOST: 0 |  False  |    None    |\n",
      "+----------------+-------------+-----------------+---------+------------+\n"
     ]
    }
   ],
   "source": [
    "env = RedTableWrapper(cyborg)\n",
    "\n",
    "results = env.reset(agent='Red')\n",
    "print(results.observation)\n",
    "\n",
    "for i in range(3):\n",
    "    results = env.step(agent='Red')\n",
    "    red_obs = results.observation\n",
    "    print(red_obs)"
   ]
  },
  {
   "cell_type": "markdown",
   "metadata": {},
   "source": [
    "### PettingZoo Wrapper"
   ]
  },
  {
   "cell_type": "markdown",
   "metadata": {},
   "source": [
    "Challenge 3 utilises the PettingZoo Wrapper for multiagent reinforcement learning. See Notebook 1. Introduction for how to use it."
   ]
  },
  {
   "cell_type": "code",
   "execution_count": null,
   "metadata": {},
   "outputs": [],
   "source": []
  }
 ],
 "metadata": {
  "kernelspec": {
   "display_name": "Python 3 (ipykernel)",
   "language": "python",
   "name": "python3"
  },
  "language_info": {
   "codemirror_mode": {
    "name": "ipython",
    "version": 3
   },
   "file_extension": ".py",
   "mimetype": "text/x-python",
   "name": "python",
   "nbconvert_exporter": "python",
   "pygments_lexer": "ipython3",
   "version": "3.9.15"
  }
 },
 "nbformat": 4,
 "nbformat_minor": 4
}
