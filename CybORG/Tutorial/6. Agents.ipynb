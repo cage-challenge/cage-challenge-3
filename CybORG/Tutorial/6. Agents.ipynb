{
 "cells": [
  {
   "cell_type": "markdown",
   "metadata": {},
   "source": [
    "### Red Agents"
   ]
  },
  {
   "cell_type": "markdown",
   "metadata": {},
   "source": [
    "Scenario 2 has two rules-based Red Agents. The first is our good friend the B_lineAgent. This represents an actor who has inside information, so is able to beeline straight towards the OpServer."
   ]
  },
  {
   "cell_type": "code",
   "execution_count": 1,
   "metadata": {},
   "outputs": [
    {
     "name": "stdout",
     "output_type": "stream",
     "text": [
      "DiscoverRemoteSystems 10.0.42.48/28\n",
      "DiscoverNetworkServices 10.0.42.49\n",
      "ExploitRemoteService 10.0.42.49\n",
      "PrivilegeEscalate User1\n",
      "DiscoverNetworkServices 10.0.128.107\n",
      "ExploitRemoteService 10.0.128.107\n",
      "PrivilegeEscalate Enterprise1\n",
      "DiscoverRemoteSystems 10.0.128.96/28\n",
      "DiscoverNetworkServices 10.0.128.97\n",
      "ExploitRemoteService 10.0.128.97\n",
      "PrivilegeEscalate Enterprise2\n",
      "DiscoverNetworkServices 10.0.213.43\n",
      "ExploitRemoteService 10.0.213.43\n",
      "PrivilegeEscalate Op_Server0\n",
      "Impact Op_Server0\n",
      "Impact Op_Server0\n"
     ]
    },
    {
     "name": "stderr",
     "output_type": "stream",
     "text": [
      "/home/david/anaconda3/envs/ai/lib/python3.9/site-packages/gym/utils/seeding.py:47: DeprecationWarning: \u001b[33mWARN: Function `rng.randint(low, [high, size, dtype])` is marked as deprecated and will be removed in the future. Please use `rng.integers(low, [high, size, dtype])` instead.\u001b[0m\n",
      "  deprecation(\n"
     ]
    }
   ],
   "source": [
    "import random\n",
    "import inspect\n",
    "from os.path import dirname\n",
    "from pprint import pprint\n",
    "\n",
    "from CybORG import CybORG\n",
    "from CybORG.Agents import *\n",
    "from CybORG.Simulator.Actions import *\n",
    "from CybORG.Simulator.Scenarios import FileReaderScenarioGenerator\n",
    "\n",
    "path = inspect.getfile(CybORG)\n",
    "path = dirname(path) + f'/Simulator/Scenarios/scenario_files/Scenario1b.yaml'\n",
    "sg = FileReaderScenarioGenerator(path)\n",
    "\n",
    "env = CybORG(scenario_generator=sg)\n",
    "\n",
    "agent = B_lineAgent()\n",
    "\n",
    "results = env.reset('Red')\n",
    "obs = results.observation\n",
    "action_space = results.action_space\n",
    "\n",
    "for i in range(16):\n",
    "    action = agent.get_action(obs,action_space)\n",
    "    results = env.step(action=action,agent='Red')\n",
    "    obs = results.observation\n",
    "    \n",
    "    print(action)"
   ]
  },
  {
   "cell_type": "markdown",
   "metadata": {},
   "source": [
    "This agent runs along a predetermined path to the Op_Server, but is smart enough able to recover its position if interrupted. We can see below after Blue Team restores some hosts, the agent works out where the error in and re-exploits its way to the Op_Server."
   ]
  },
  {
   "cell_type": "code",
   "execution_count": 2,
   "metadata": {},
   "outputs": [
    {
     "name": "stdout",
     "output_type": "stream",
     "text": [
      "Impact Op_Server0\n",
      "Success: FALSE\n",
      "PrivilegeEscalate Op_Server0\n",
      "Success: FALSE\n",
      "ExploitRemoteService 10.0.213.43\n",
      "Success: FALSE\n",
      "ExploitRemoteService 10.0.128.97\n",
      "Success: TRUE\n",
      "PrivilegeEscalate Enterprise2\n",
      "Success: TRUE\n",
      "DiscoverNetworkServices 10.0.213.43\n",
      "Success: TRUE\n",
      "ExploitRemoteService 10.0.213.43\n",
      "Success: TRUE\n",
      "PrivilegeEscalate Op_Server0\n",
      "Success: TRUE\n",
      "Impact Op_Server0\n",
      "Success: TRUE\n",
      "Impact Op_Server0\n",
      "Success: TRUE\n",
      "Impact Op_Server0\n",
      "Success: TRUE\n",
      "Impact Op_Server0\n",
      "Success: TRUE\n"
     ]
    }
   ],
   "source": [
    "action = Restore(hostname='Op_Server0',session=0,agent='Blue')\n",
    "env.step(action=action,agent='Blue')\n",
    "\n",
    "action = Restore(hostname='Enterprise2',session=0,agent='Blue')\n",
    "env.step(action=action,agent='Blue')\n",
    "\n",
    "action = Restore(hostname='Enterprise1',session=0,agent='Blue')\n",
    "env.step(action=action,agent='Blue')\n",
    "\n",
    "for i in range(12):\n",
    "    action = agent.get_action(obs,action_space)\n",
    "    results = env.step(action=action,agent='Red')\n",
    "    obs = results.observation\n",
    "            \n",
    "    print(action)\n",
    "    print('Success:',obs['success'])"
   ]
  },
  {
   "cell_type": "markdown",
   "metadata": {},
   "source": [
    "The other red agent is the MeanderAgent. This performs a breadth first search on all known hosts, scanning each one in turn, before attempting a mix of exploit and privilege escalate on the rest. This is an extremely slow agent in contrast to the laser-focussed B_lineAgent."
   ]
  },
  {
   "cell_type": "code",
   "execution_count": 3,
   "metadata": {},
   "outputs": [
    {
     "name": "stdout",
     "output_type": "stream",
     "text": [
      "DiscoverRemoteSystems 10.0.44.64/28\n",
      "DiscoverNetworkServices 10.0.44.76\n",
      "DiscoverNetworkServices 10.0.44.73\n",
      "DiscoverNetworkServices 10.0.44.72\n",
      "DiscoverNetworkServices 10.0.44.69\n",
      "DiscoverNetworkServices 10.0.44.70\n",
      "PrivilegeEscalate User0\n",
      "ExploitRemoteService 10.0.44.76\n",
      "PrivilegeEscalate User4\n",
      "DiscoverNetworkServices 10.0.162.225\n",
      "ExploitRemoteService 10.0.44.69\n",
      "PrivilegeEscalate User2\n",
      "DiscoverNetworkServices 10.0.162.234\n",
      "ExploitRemoteService 10.0.44.70\n",
      "PrivilegeEscalate User1\n",
      "ExploitRemoteService 10.0.44.73\n",
      "ExploitRemoteService 10.0.44.72\n",
      "PrivilegeEscalate User3\n",
      "ExploitRemoteService 10.0.162.234\n",
      "PrivilegeEscalate Enterprise1\n",
      "DiscoverRemoteSystems 10.0.162.224/28\n",
      "DiscoverNetworkServices 10.0.162.226\n",
      "DiscoverNetworkServices 10.0.162.235\n",
      "ExploitRemoteService 10.0.162.226\n",
      "PrivilegeEscalate Enterprise2\n",
      "DiscoverNetworkServices 10.0.248.233\n",
      "ExploitRemoteService 10.0.162.225\n",
      "PrivilegeEscalate Enterprise0\n",
      "ExploitRemoteService 10.0.248.233\n",
      "PrivilegeEscalate Op_Server0\n",
      "Impact Op_Server0\n",
      "Impact Op_Server0\n",
      "Impact Op_Server0\n",
      "Impact Op_Server0\n",
      "Impact Op_Server0\n",
      "Impact Op_Server0\n",
      "Impact Op_Server0\n",
      "Impact Op_Server0\n",
      "Impact Op_Server0\n",
      "Impact Op_Server0\n",
      "Impact Op_Server0\n",
      "Impact Op_Server0\n",
      "Impact Op_Server0\n",
      "Impact Op_Server0\n",
      "Impact Op_Server0\n",
      "Impact Op_Server0\n"
     ]
    }
   ],
   "source": [
    "agent = RedMeanderAgent()\n",
    "\n",
    "results = env.reset('Red')\n",
    "obs = results.observation\n",
    "action_space = results.action_space\n",
    "\n",
    "for i in range(46):\n",
    "    action = agent.get_action(obs,action_space)\n",
    "    results = env.step(action=action,agent='Red')\n",
    "    obs = results.observation\n",
    "    \n",
    "    print(action)"
   ]
  },
  {
   "cell_type": "markdown",
   "metadata": {},
   "source": [
    "The Meander Agent is also able to recover from Blue's disruption."
   ]
  },
  {
   "cell_type": "code",
   "execution_count": 4,
   "metadata": {},
   "outputs": [
    {
     "name": "stdout",
     "output_type": "stream",
     "text": [
      "Impact Op_Server0\n",
      "DiscoverRemoteSystems 10.0.248.224/28\n",
      "ExploitRemoteService 10.0.162.235\n",
      "PrivilegeEscalate Enterprise2\n",
      "PrivilegeEscalate User1\n",
      "PrivilegeEscalate User4\n",
      "PrivilegeEscalate User0\n",
      "PrivilegeEscalate Enterprise0\n",
      "PrivilegeEscalate User2\n",
      "PrivilegeEscalate Enterprise1\n",
      "PrivilegeEscalate User3\n",
      "ExploitRemoteService 10.0.162.226\n",
      "PrivilegeEscalate User0\n",
      "PrivilegeEscalate User1\n",
      "PrivilegeEscalate Enterprise2\n",
      "PrivilegeEscalate User2\n",
      "PrivilegeEscalate User4\n",
      "PrivilegeEscalate User3\n",
      "ExploitRemoteService 10.0.248.233\n",
      "PrivilegeEscalate User2\n",
      "PrivilegeEscalate User4\n",
      "PrivilegeEscalate User1\n",
      "PrivilegeEscalate Op_Server0\n",
      "PrivilegeEscalate User3\n"
     ]
    }
   ],
   "source": [
    "action = Restore(hostname='Op_Server0',session=0,agent='Blue')\n",
    "env.step(action=action,agent='Blue')\n",
    "\n",
    "action = Restore(hostname='Enterprise2',session=0,agent='Blue')\n",
    "env.step(action=action,agent='Blue')\n",
    "\n",
    "action = Restore(hostname='Enterprise1',session=0,agent='Blue')\n",
    "env.step(action=action,agent='Blue')\n",
    "\n",
    "action = Restore(hostname='Enterprise0',session=0,agent='Blue')\n",
    "env.step(action=action,agent='Blue')\n",
    "\n",
    "for i in range(24):\n",
    "    action = agent.get_action(obs,action_space)\n",
    "    results = env.step(action=action,agent='Red')\n",
    "    obs = results.observation\n",
    "    print(env.get_last_action('Red'))"
   ]
  },
  {
   "cell_type": "markdown",
   "metadata": {},
   "source": [
    "### Blue Agents"
   ]
  },
  {
   "cell_type": "markdown",
   "metadata": {},
   "source": [
    "The BlueReactRemoveAgent will wait until it sees suspicious activity, before using remove on all the hosts it has flagged. However, due to the 5% change that Red's exploit is missed, Red will always eventually get to the Op_Server."
   ]
  },
  {
   "cell_type": "code",
   "execution_count": 5,
   "metadata": {},
   "outputs": [
    {
     "name": "stdout",
     "output_type": "stream",
     "text": [
      "Monitor\n",
      "Monitor\n",
      "Monitor\n",
      "Monitor\n",
      "Monitor\n",
      "Remove User2\n",
      "Monitor\n",
      "Monitor\n",
      "Monitor\n",
      "Monitor\n"
     ]
    }
   ],
   "source": [
    "env = CybORG(sg,agents={'Red':B_lineAgent()})\n",
    "\n",
    "agent = BlueReactRemoveAgent()\n",
    "\n",
    "results = env.reset('Blue')\n",
    "obs = results.observation\n",
    "action_space = results.action_space\n",
    "\n",
    "for i in range(12):\n",
    "    action = agent.get_action(obs,action_space)\n",
    "    results = env.step(action=action,agent='Blue')\n",
    "    obs = results.observation\n",
    "    print(env.get_last_action('Blue'))"
   ]
  },
  {
   "cell_type": "markdown",
   "metadata": {},
   "source": [
    "The BlueReactRestoreAgent is the same as the React agent above, but uses the Restore action."
   ]
  },
  {
   "cell_type": "code",
   "execution_count": 6,
   "metadata": {},
   "outputs": [
    {
     "name": "stdout",
     "output_type": "stream",
     "text": [
      "Monitor\n",
      "Monitor\n",
      "Monitor\n",
      "Restore User4\n",
      "Monitor\n",
      "Restore User4\n",
      "Monitor\n",
      "Restore User4\n",
      "Monitor\n",
      "Restore User4\n",
      "Monitor\n",
      "Restore User4\n"
     ]
    }
   ],
   "source": [
    "agent = BlueReactRestoreAgent()\n",
    "\n",
    "results = env.reset('Blue')\n",
    "obs = results.observation\n",
    "action_space = results.action_space\n",
    "\n",
    "for i in range(12):\n",
    "    action = agent.get_action(obs,action_space)\n",
    "    results = env.step(action=action,agent='Blue')\n",
    "    obs = results.observation\n",
    "    print(env.get_last_action('Blue'))"
   ]
  },
  {
   "cell_type": "markdown",
   "metadata": {},
   "source": [
    "### Green Agent"
   ]
  },
  {
   "cell_type": "markdown",
   "metadata": {},
   "source": [
    "An important part of CybORG Scenario1b is the Green agent, which represents the users on the network. The Green Agent is very simple, it only performs a scanning action on random hosts some of the time. This is only visible by Blue Agent."
   ]
  },
  {
   "cell_type": "code",
   "execution_count": 7,
   "metadata": {},
   "outputs": [
    {
     "name": "stdout",
     "output_type": "stream",
     "text": [
      "Sleep\n",
      "GreenPortScan\n",
      "Sleep\n",
      "Sleep\n",
      "Sleep\n",
      "GreenPortScan\n",
      "GreenPortScan\n",
      "GreenPortScan\n",
      "Sleep\n",
      "Sleep\n",
      "GreenPortScan\n",
      "Sleep\n"
     ]
    }
   ],
   "source": [
    "agent = GreenAgent()\n",
    "\n",
    "results = env.reset('Green')\n",
    "obs = results.observation\n",
    "action_space = results.action_space\n",
    "\n",
    "for i in range(12):\n",
    "    print(agent.get_action(obs,action_space))"
   ]
  },
  {
   "cell_type": "markdown",
   "metadata": {},
   "source": [
    "### Keyboard Agent"
   ]
  },
  {
   "cell_type": "markdown",
   "metadata": {},
   "source": [
    "The KeyboardAgent allows a human user to manually choose actions. This is useful for getting an intuition for the scenario."
   ]
  },
  {
   "cell_type": "code",
   "execution_count": 11,
   "metadata": {},
   "outputs": [
    {
     "name": "stdout",
     "output_type": "stream",
     "text": [
      "+----------------+-------------+----------+---------+------------+\n",
      "|     Subnet     |  IP Address | Hostname | Scanned |   Access   |\n",
      "+----------------+-------------+----------+---------+------------+\n",
      "| 10.0.124.64/28 | 10.0.124.78 |  User0   |  False  | Privileged |\n",
      "+----------------+-------------+----------+---------+------------+\n",
      "\n",
      "************************************ Turn 1: Observation *************************************\n",
      "\n",
      "+----------------+-------------+----------+---------+------------+\n",
      "|     Subnet     |  IP Address | Hostname | Scanned |   Access   |\n",
      "+----------------+-------------+----------+---------+------------+\n",
      "| 10.0.124.64/28 | 10.0.124.78 |  User0   |  False  | Privileged |\n",
      "+----------------+-------------+----------+---------+------------+\n",
      "\n",
      "********************************* Turn 1: Command Selection **********************************\n",
      "\n",
      "0 Sleep\n",
      "1 DiscoverRemoteSystems\n",
      "2 DiscoverNetworkServices\n",
      "3 ExploitRemoteService\n",
      "4 BlueKeep\n",
      "5 EternalBlue\n",
      "6 FTPDirectoryTraversal\n",
      "7 HarakaRCE\n",
      "8 HTTPRFI\n",
      "9 HTTPSRFI\n",
      "10 SQLInjection\n",
      "11 RemoteCodeExecutionOnSMTP\n",
      "12 PrivilegeEscalate\n",
      "13 Impact\n",
      "14 SSHBruteForce\n"
     ]
    },
    {
     "name": "stdin",
     "output_type": "stream",
     "text": [
      "----------------------------------------------------------------------------------------------\n",
      "CHOOSE A COMMAND:  1\n"
     ]
    },
    {
     "name": "stdout",
     "output_type": "stream",
     "text": [
      "You chose DiscoverRemoteSystems.\n",
      "\n",
      "\n",
      "******************************** Turn 1: Parameter Selection *********************************\n",
      "\n",
      "\n",
      "-------------------------------------- Subnet Selection --------------------------------------\n",
      "Automatically choosing 10.0.124.64/28 as it is the only option.\n",
      "------------------------------------- Session Selection --------------------------------------\n",
      "Automatically choosing 0 as it is the only option.\n",
      "-------------------------------------- Agent Selection ---------------------------------------\n",
      "Automatically choosing Red as it is the only option.\n",
      "+----------------+-------------+-----------------+---------+------------+\n",
      "|     Subnet     |  IP Address |     Hostname    | Scanned |   Access   |\n",
      "+----------------+-------------+-----------------+---------+------------+\n",
      "| 10.0.124.64/28 | 10.0.124.65 | UNKNOWN_HOST: 0 |  False  |    None    |\n",
      "| 10.0.124.64/28 | 10.0.124.66 | UNKNOWN_HOST: 3 |  False  |    None    |\n",
      "| 10.0.124.64/28 | 10.0.124.70 | UNKNOWN_HOST: 2 |  False  |    None    |\n",
      "| 10.0.124.64/28 | 10.0.124.74 | UNKNOWN_HOST: 1 |  False  |    None    |\n",
      "| 10.0.124.64/28 | 10.0.124.78 |      User0      |  False  | Privileged |\n",
      "+----------------+-------------+-----------------+---------+------------+\n",
      "\n",
      "************************************ Turn 2: Observation *************************************\n",
      "\n",
      "+----------------+-------------+-----------------+---------+------------+\n",
      "|     Subnet     |  IP Address |     Hostname    | Scanned |   Access   |\n",
      "+----------------+-------------+-----------------+---------+------------+\n",
      "| 10.0.124.64/28 | 10.0.124.65 | UNKNOWN_HOST: 0 |  False  |    None    |\n",
      "| 10.0.124.64/28 | 10.0.124.66 | UNKNOWN_HOST: 3 |  False  |    None    |\n",
      "| 10.0.124.64/28 | 10.0.124.70 | UNKNOWN_HOST: 2 |  False  |    None    |\n",
      "| 10.0.124.64/28 | 10.0.124.74 | UNKNOWN_HOST: 1 |  False  |    None    |\n",
      "| 10.0.124.64/28 | 10.0.124.78 |      User0      |  False  | Privileged |\n",
      "+----------------+-------------+-----------------+---------+------------+\n",
      "----------------------------------------------------------------------------------------------\n",
      "Yay! The Action was a Success!\n",
      "**********************************************************************************************\n",
      "\n",
      "********************************* Turn 2: Command Selection **********************************\n",
      "\n",
      "0 Sleep\n",
      "1 DiscoverRemoteSystems\n",
      "2 DiscoverNetworkServices\n",
      "3 ExploitRemoteService\n",
      "4 BlueKeep\n",
      "5 EternalBlue\n",
      "6 FTPDirectoryTraversal\n",
      "7 HarakaRCE\n",
      "8 HTTPRFI\n",
      "9 HTTPSRFI\n",
      "10 SQLInjection\n",
      "11 RemoteCodeExecutionOnSMTP\n",
      "12 PrivilegeEscalate\n",
      "13 Impact\n",
      "14 SSHBruteForce\n"
     ]
    },
    {
     "name": "stdin",
     "output_type": "stream",
     "text": [
      "----------------------------------------------------------------------------------------------\n",
      "CHOOSE A COMMAND:  2\n"
     ]
    },
    {
     "name": "stdout",
     "output_type": "stream",
     "text": [
      "You chose DiscoverNetworkServices.\n",
      "\n",
      "\n",
      "******************************** Turn 2: Parameter Selection *********************************\n",
      "\n",
      "\n",
      "------------------------------------- Session Selection --------------------------------------\n",
      "Automatically choosing 0 as it is the only option.\n",
      "-------------------------------------- Agent Selection ---------------------------------------\n",
      "Automatically choosing Red as it is the only option.\n",
      "------------------------------------ Ip_address Selection ------------------------------------\n",
      "0 10.0.124.78\n",
      "1 10.0.124.65\n",
      "2 10.0.124.74\n",
      "3 10.0.124.70\n",
      "4 10.0.124.66\n"
     ]
    },
    {
     "name": "stdin",
     "output_type": "stream",
     "text": [
      "----------------------------------------------------------------------------------------------\n",
      "CHOOSE A PARAMETER:  0\n"
     ]
    },
    {
     "name": "stdout",
     "output_type": "stream",
     "text": [
      "You chose 10.0.124.78.\n",
      "+----------------+-------------+-----------------+---------+------------+\n",
      "|     Subnet     |  IP Address |     Hostname    | Scanned |   Access   |\n",
      "+----------------+-------------+-----------------+---------+------------+\n",
      "| 10.0.124.64/28 | 10.0.124.65 | UNKNOWN_HOST: 0 |  False  |    None    |\n",
      "| 10.0.124.64/28 | 10.0.124.66 | UNKNOWN_HOST: 3 |  False  |    None    |\n",
      "| 10.0.124.64/28 | 10.0.124.70 | UNKNOWN_HOST: 2 |  False  |    None    |\n",
      "| 10.0.124.64/28 | 10.0.124.74 | UNKNOWN_HOST: 1 |  False  |    None    |\n",
      "| 10.0.124.64/28 | 10.0.124.78 |      User0      |   True  | Privileged |\n",
      "+----------------+-------------+-----------------+---------+------------+\n",
      "\n",
      "************************************ Turn 3: Observation *************************************\n",
      "\n",
      "+----------------+-------------+-----------------+---------+------------+\n",
      "|     Subnet     |  IP Address |     Hostname    | Scanned |   Access   |\n",
      "+----------------+-------------+-----------------+---------+------------+\n",
      "| 10.0.124.64/28 | 10.0.124.65 | UNKNOWN_HOST: 0 |  False  |    None    |\n",
      "| 10.0.124.64/28 | 10.0.124.66 | UNKNOWN_HOST: 3 |  False  |    None    |\n",
      "| 10.0.124.64/28 | 10.0.124.70 | UNKNOWN_HOST: 2 |  False  |    None    |\n",
      "| 10.0.124.64/28 | 10.0.124.74 | UNKNOWN_HOST: 1 |  False  |    None    |\n",
      "| 10.0.124.64/28 | 10.0.124.78 |      User0      |   True  | Privileged |\n",
      "+----------------+-------------+-----------------+---------+------------+\n",
      "----------------------------------------------------------------------------------------------\n",
      "Yay! The Action was a Success!\n",
      "**********************************************************************************************\n",
      "\n",
      "********************************* Turn 3: Command Selection **********************************\n",
      "\n",
      "0 Sleep\n",
      "1 DiscoverRemoteSystems\n",
      "2 DiscoverNetworkServices\n",
      "3 ExploitRemoteService\n",
      "4 BlueKeep\n",
      "5 EternalBlue\n",
      "6 FTPDirectoryTraversal\n",
      "7 HarakaRCE\n",
      "8 HTTPRFI\n",
      "9 HTTPSRFI\n",
      "10 SQLInjection\n",
      "11 RemoteCodeExecutionOnSMTP\n",
      "12 PrivilegeEscalate\n",
      "13 Impact\n",
      "14 SSHBruteForce\n"
     ]
    },
    {
     "name": "stdin",
     "output_type": "stream",
     "text": [
      "----------------------------------------------------------------------------------------------\n",
      "CHOOSE A COMMAND:  2\n"
     ]
    },
    {
     "name": "stdout",
     "output_type": "stream",
     "text": [
      "You chose DiscoverNetworkServices.\n",
      "\n",
      "\n",
      "******************************** Turn 3: Parameter Selection *********************************\n",
      "\n",
      "\n",
      "------------------------------------ Ip_address Selection ------------------------------------\n",
      "0 10.0.124.78\n",
      "1 10.0.124.65\n",
      "2 10.0.124.74\n",
      "3 10.0.124.70\n",
      "4 10.0.124.66\n"
     ]
    },
    {
     "name": "stdin",
     "output_type": "stream",
     "text": [
      "----------------------------------------------------------------------------------------------\n",
      "CHOOSE A PARAMETER:  0\n"
     ]
    },
    {
     "name": "stdout",
     "output_type": "stream",
     "text": [
      "You chose 10.0.124.78.\n",
      "------------------------------------- Session Selection --------------------------------------\n",
      "Automatically choosing 0 as it is the only option.\n",
      "-------------------------------------- Agent Selection ---------------------------------------\n",
      "Automatically choosing Red as it is the only option.\n"
     ]
    }
   ],
   "source": [
    "from CybORG.Agents.Wrappers import RedTableWrapper\n",
    "\n",
    "cyborg = CybORG(sg,agents={'Blue':MonitorAgent()})\n",
    "env = RedTableWrapper(env=cyborg, output_mode='table')\n",
    "\n",
    "agent = KeyboardAgent()\n",
    "\n",
    "results = env.reset('Red')\n",
    "obs = results.observation\n",
    "action_space = results.action_space\n",
    "\n",
    "for i in range(3):\n",
    "    print(obs)\n",
    "    action = agent.get_action(obs,action_space)\n",
    "    results = env.step(action=action,agent='Red')\n",
    "    obs = results.observation"
   ]
  },
  {
   "cell_type": "code",
   "execution_count": null,
   "metadata": {},
   "outputs": [],
   "source": []
  }
 ],
 "metadata": {
  "kernelspec": {
   "display_name": "Python 3 (ipykernel)",
   "language": "python",
   "name": "python3"
  },
  "language_info": {
   "codemirror_mode": {
    "name": "ipython",
    "version": 3
   },
   "file_extension": ".py",
   "mimetype": "text/x-python",
   "name": "python",
   "nbconvert_exporter": "python",
   "pygments_lexer": "ipython3",
   "version": "3.9.15"
  }
 },
 "nbformat": 4,
 "nbformat_minor": 4
}
