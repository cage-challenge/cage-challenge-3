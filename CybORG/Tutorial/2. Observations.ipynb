{
 "cells": [
  {
   "cell_type": "markdown",
   "metadata": {},
   "source": [
    "### Initial Observations"
   ]
  },
  {
   "cell_type": "markdown",
   "metadata": {},
   "source": [
    "Due to the complex nature of computer security, CybORG's raw observations contain a lot of information presented in a standardised format which takes the form of a series of nested dictionaries and lists. It is recommended you use prettyprint whenever printing a CybORG observation.\n",
    "\n",
    "We will begin by instantiating CybORG and looking at Red's initial observation."
   ]
  },
  {
   "cell_type": "code",
   "execution_count": 1,
   "metadata": {},
   "outputs": [
    {
     "name": "stdout",
     "output_type": "stream",
     "text": [
      "{'User0': {'Interface': [{'IP Address': IPv4Address('10.0.186.193'),\n",
      "                          'Interface Name': 'eth0',\n",
      "                          'Subnet': IPv4Network('10.0.186.192/28')}],\n",
      "           'Processes': [{'PID': 3379, 'Username': 'SYSTEM'}],\n",
      "           'Sessions': [{'Agent': 'Red',\n",
      "                         'ID': 0,\n",
      "                         'PID': 3379,\n",
      "                         'Timeout': 0,\n",
      "                         'Type': <SessionType.RED_ABSTRACT_SESSION: 10>,\n",
      "                         'Username': 'SYSTEM'}],\n",
      "           'System info': {'Architecture': <Architecture.x64: 2>,\n",
      "                           'Hostname': 'User0',\n",
      "                           'OSDistribution': <OperatingSystemDistribution.WINDOWS_SVR_2008: 4>,\n",
      "                           'OSType': <OperatingSystemType.WINDOWS: 2>,\n",
      "                           'OSVersion': <OperatingSystemVersion.W6_1_7601: 13>,\n",
      "                           'position': (28, 30)}},\n",
      " 'success': <TrinaryEnum.UNKNOWN: 2>}\n"
     ]
    },
    {
     "name": "stderr",
     "output_type": "stream",
     "text": [
      "/home/david/anaconda3/envs/ai/lib/python3.9/site-packages/gym/utils/seeding.py:47: DeprecationWarning: \u001b[33mWARN: Function `rng.randint(low, [high, size, dtype])` is marked as deprecated and will be removed in the future. Please use `rng.integers(low, [high, size, dtype])` instead.\u001b[0m\n",
      "  deprecation(\n"
     ]
    }
   ],
   "source": [
    "import random\n",
    "import inspect\n",
    "from os.path import dirname\n",
    "from pprint import pprint\n",
    "\n",
    "from CybORG import CybORG\n",
    "from CybORG.Simulator.Scenarios import FileReaderScenarioGenerator\n",
    "\n",
    "path = inspect.getfile(CybORG)\n",
    "path = dirname(path) + f'/Simulator/Scenarios/scenario_files/Scenario1b.yaml'\n",
    "sg = FileReaderScenarioGenerator(path)\n",
    "cyborg = CybORG(scenario_generator=sg)\n",
    "\n",
    "env = CybORG(sg)\n",
    "\n",
    "results = env.reset(agent='Red')\n",
    "obs = results.observation\n",
    "pprint(obs)"
   ]
  },
  {
   "cell_type": "markdown",
   "metadata": {},
   "source": [
    "The dictionary above has two keys: 'success' and 'User0'. The success value indicates whether the previous action ran successfully, or whether it encountered an error. Since this is the start of the scenario, the success value is set to UNKNOWN.\n",
    "\n",
    "The key 'User0' is a hostid, indicating its corresponding value is data about that host. Here the hostid is equal to the name of the host, altough hostids can also be ip_addresses depending on the previous action.\n",
    "\n",
    "We will now take a closer look  examine the 'User0' dictionary."
   ]
  },
  {
   "cell_type": "code",
   "execution_count": 2,
   "metadata": {},
   "outputs": [
    {
     "name": "stdout",
     "output_type": "stream",
     "text": [
      "{'Interface': [{'IP Address': IPv4Address('10.0.186.193'),\n",
      "                'Interface Name': 'eth0',\n",
      "                'Subnet': IPv4Network('10.0.186.192/28')}],\n",
      " 'Processes': [{'PID': 3379, 'Username': 'SYSTEM'}],\n",
      " 'Sessions': [{'Agent': 'Red',\n",
      "               'ID': 0,\n",
      "               'PID': 3379,\n",
      "               'Timeout': 0,\n",
      "               'Type': <SessionType.RED_ABSTRACT_SESSION: 10>,\n",
      "               'Username': 'SYSTEM'}],\n",
      " 'System info': {'Architecture': <Architecture.x64: 2>,\n",
      "                 'Hostname': 'User0',\n",
      "                 'OSDistribution': <OperatingSystemDistribution.WINDOWS_SVR_2008: 4>,\n",
      "                 'OSType': <OperatingSystemType.WINDOWS: 2>,\n",
      "                 'OSVersion': <OperatingSystemVersion.W6_1_7601: 13>,\n",
      "                 'position': (28, 30)}}\n"
     ]
    }
   ],
   "source": [
    "pprint(obs['User0'])"
   ]
  },
  {
   "cell_type": "markdown",
   "metadata": {},
   "source": [
    "The 'User0' dictionary contains information about the host 'User0'. 'Interfaces' gives us networking information such as the host's ip address, which is randomized each scenario. 'Processes' lets us know any security-relevant processes running on the host that Red knows about; in this case Red begins with a SYSTEM level shell on User0. 'Sessions' lets us know any shells Red is aware of. Again, we can see it only sees its own starting shell. Finally, 'System info' tells us information about the operating system. For example, it is running Windows Server 2008 and has hostname 'User0'.\n",
    "\n",
    "You may notice that 'Interface', 'Processes' and 'Sessions' all have lists as values. This is because a host can and usually will have multiple of these running at the same time.\n",
    "\n",
    "We can now look at Blue's initial observation by calling the get_observation() method. Blue has access to the entire network so its initial observation is huge thus we will initially only print out the keys."
   ]
  },
  {
   "cell_type": "code",
   "execution_count": 3,
   "metadata": {},
   "outputs": [
    {
     "name": "stdout",
     "output_type": "stream",
     "text": [
      "['success', 'Defender', 'Enterprise0', 'Enterprise1', 'Enterprise2', 'Op_Host0', 'Op_Host1', 'Op_Host2', 'Op_Server0', 'User0', 'User1', 'User2', 'User3', 'User4']\n"
     ]
    }
   ],
   "source": [
    "blue_obs = env.get_observation('Blue')\n",
    "\n",
    "print(list(blue_obs.keys()))"
   ]
  },
  {
   "cell_type": "markdown",
   "metadata": {},
   "source": [
    "Printing out Blue's observation for 'User0', we can see it has has a different picture than Red. It has visibility of its own shells, but cannot detect red's."
   ]
  },
  {
   "cell_type": "code",
   "execution_count": 4,
   "metadata": {},
   "outputs": [
    {
     "name": "stdout",
     "output_type": "stream",
     "text": [
      "{'Interface': [{'IP Address': IPv4Address('10.0.186.193'),\n",
      "                'Interface Name': 'eth0',\n",
      "                'Subnet': IPv4Network('10.0.186.192/28')}],\n",
      " 'Processes': [{'PID': 3369, 'Username': 'ubuntu'}],\n",
      " 'Sessions': [{'Agent': 'Blue',\n",
      "               'ID': 1,\n",
      "               'PID': 3369,\n",
      "               'Timeout': 0,\n",
      "               'Type': <SessionType.VELOCIRAPTOR_CLIENT: 7>,\n",
      "               'Username': 'ubuntu'}],\n",
      " 'System info': {'Architecture': <Architecture.x64: 2>,\n",
      "                 'Hostname': 'User0',\n",
      "                 'OSDistribution': <OperatingSystemDistribution.WINDOWS_SVR_2008: 4>,\n",
      "                 'OSType': <OperatingSystemType.WINDOWS: 2>,\n",
      "                 'OSVersion': <OperatingSystemVersion.W6_1_7601: 13>,\n",
      "                 'position': (28, 30)},\n",
      " 'User Info': [{'Groups': [{'GID': 0}], 'Username': 'Administrator'},\n",
      "               {'Username': 'GreenAgent'},\n",
      "               {'Groups': [{'GID': 0}],\n",
      "                'Password': 'vagrant',\n",
      "                'Username': 'vagrant'},\n",
      "               {'Username': 'SYSTEM'}]}\n"
     ]
    }
   ],
   "source": [
    "pprint(blue_obs['User0'])"
   ]
  },
  {
   "cell_type": "markdown",
   "metadata": {},
   "source": [
    "### Red and Blue Observations"
   ]
  },
  {
   "cell_type": "markdown",
   "metadata": {},
   "source": [
    "We will now import a rules-based red agent and run it one step to get a new observation."
   ]
  },
  {
   "cell_type": "code",
   "execution_count": 5,
   "metadata": {},
   "outputs": [
    {
     "name": "stdout",
     "output_type": "stream",
     "text": [
      "Red Action: DiscoverRemoteSystems 10.0.186.192/28\n",
      "----------------------------------------------------------------------------\n",
      "{'10.0.186.193': {'Interface': [{'IP Address': IPv4Address('10.0.186.193'),\n",
      "                                 'Subnet': IPv4Network('10.0.186.192/28')}]},\n",
      " '10.0.186.195': {'Interface': [{'IP Address': IPv4Address('10.0.186.195'),\n",
      "                                 'Subnet': IPv4Network('10.0.186.192/28')}]},\n",
      " '10.0.186.197': {'Interface': [{'IP Address': IPv4Address('10.0.186.197'),\n",
      "                                 'Subnet': IPv4Network('10.0.186.192/28')}]},\n",
      " '10.0.186.205': {'Interface': [{'IP Address': IPv4Address('10.0.186.205'),\n",
      "                                 'Subnet': IPv4Network('10.0.186.192/28')}]},\n",
      " '10.0.186.206': {'Interface': [{'IP Address': IPv4Address('10.0.186.206'),\n",
      "                                 'Subnet': IPv4Network('10.0.186.192/28')}]},\n",
      " 'success': <TrinaryEnum.TRUE: 1>}\n"
     ]
    }
   ],
   "source": [
    "from CybORG.Agents import B_lineAgent\n",
    "\n",
    "action_space = results.action_space\n",
    "red_obs = results.observation\n",
    "agent = B_lineAgent()\n",
    "\n",
    "def step_red(obs, verbose=True):\n",
    "    action = agent.get_action(obs,action_space)\n",
    "    results = env.step(action=action,agent='Red')\n",
    "    obs = results.observation\n",
    "    \n",
    "    if verbose:\n",
    "        print('Red Action:',action)\n",
    "        print(76*'-')\n",
    "        pprint(obs)\n",
    "    \n",
    "    return results\n",
    "\n",
    "results = step_red(red_obs)\n",
    "red_obs = results.observation"
   ]
  },
  {
   "cell_type": "markdown",
   "metadata": {},
   "source": [
    "We can see that the agent has performed a 'DiscoverRemoteSystems' action. This represents a network scan discovering active ip addresses on a target subnet. Note these are now the hostids.\n",
    "\n",
    "Note that the observation only contains information relevant to the previous action. We no longer have information given by the initial observation. This is because observations are designed to represent the output of real tools used by cybersecurity professionals, which only give extremely limited information at any one time. See the Wrapper tutorial for ways of gluing observations together to form a coherent picture.\n",
    "\n",
    "Meanwhile because we haven't specified a Blue agent, blue team has been passively monitoring the network. However, it doesn't have any tools to detect Red's subnet scan, so its observation is virtually empty."
   ]
  },
  {
   "cell_type": "code",
   "execution_count": 6,
   "metadata": {},
   "outputs": [
    {
     "name": "stdout",
     "output_type": "stream",
     "text": [
      "{'success': <TrinaryEnum.UNKNOWN: 2>}\n"
     ]
    }
   ],
   "source": [
    "print(env.get_observation('Blue'))"
   ]
  },
  {
   "cell_type": "markdown",
   "metadata": {},
   "source": [
    "However, Red's next action is a port scan, which blue is able to detect."
   ]
  },
  {
   "cell_type": "code",
   "execution_count": 7,
   "metadata": {},
   "outputs": [
    {
     "name": "stdout",
     "output_type": "stream",
     "text": [
      "Red Action: DiscoverNetworkServices 10.0.186.206\n",
      "----------------------------------------------------------------------------\n",
      "{'10.0.186.206': {'Interface': [{'IP Address': IPv4Address('10.0.186.206')}],\n",
      "                  'Processes': [{'Connections': [{'local_address': IPv4Address('10.0.186.206'),\n",
      "                                                  'local_port': 80}]},\n",
      "                                {'Connections': [{'local_address': IPv4Address('10.0.186.206'),\n",
      "                                                  'local_port': 3389}]},\n",
      "                                {'Connections': [{'local_address': IPv4Address('10.0.186.206'),\n",
      "                                                  'local_port': 443}]},\n",
      "                                {'Connections': [{'local_address': IPv4Address('10.0.186.206'),\n",
      "                                                  'local_port': 25}]}]},\n",
      " 'success': <TrinaryEnum.TRUE: 1>}\n",
      "----------------------------------------------------------------------------\n",
      "Blue Observation:\n",
      "............................................................................\n",
      "{'User3': {'Interface': [{'IP Address': IPv4Address('10.0.186.206')}],\n",
      "           'Processes': [{'Connections': [{'local_address': IPv4Address('10.0.186.206'),\n",
      "                                           'local_port': 80,\n",
      "                                           'remote_address': IPv4Address('10.0.186.193'),\n",
      "                                           'remote_port': 55108}]},\n",
      "                         {'Connections': [{'local_address': IPv4Address('10.0.186.206'),\n",
      "                                           'local_port': 3389,\n",
      "                                           'remote_address': IPv4Address('10.0.186.193'),\n",
      "                                           'remote_port': 54297}]},\n",
      "                         {'Connections': [{'local_address': IPv4Address('10.0.186.206'),\n",
      "                                           'local_port': 443,\n",
      "                                           'remote_address': IPv4Address('10.0.186.193'),\n",
      "                                           'remote_port': 49563}]},\n",
      "                         {'Connections': [{'local_address': IPv4Address('10.0.186.206'),\n",
      "                                           'local_port': 25,\n",
      "                                           'remote_address': IPv4Address('10.0.186.193'),\n",
      "                                           'remote_port': 57144}]}],\n",
      "           'System info': {'Architecture': <Architecture.x64: 2>,\n",
      "                           'Hostname': 'User3',\n",
      "                           'OSDistribution': <OperatingSystemDistribution.UBUNTU: 8>,\n",
      "                           'OSType': <OperatingSystemType.LINUX: 3>,\n",
      "                           'OSVersion': <OperatingSystemVersion.U18_04_3: 6>,\n",
      "                           'position': (60, 20)}},\n",
      " 'success': <TrinaryEnum.UNKNOWN: 2>}\n",
      "............................................................................\n"
     ]
    }
   ],
   "source": [
    "results = step_red(red_obs)\n",
    "red_obs = results.observation\n",
    "\n",
    "blue_obs = env.get_observation('Blue')\n",
    "print(76*'-')\n",
    "print('Blue Observation:')\n",
    "print(76*'.')\n",
    "pprint(blue_obs)\n",
    "print(76*'.')"
   ]
  },
  {
   "cell_type": "markdown",
   "metadata": {},
   "source": [
    "Both agents' observations are similar: a flurry of connections to a single ip address as the host is scanned for open ports.\n",
    "\n",
    "The next action is an exploit establishing a shell for Red on 'User1'. Again both teams have similar observations, observing the connections generated by this."
   ]
  },
  {
   "cell_type": "code",
   "execution_count": 8,
   "metadata": {},
   "outputs": [
    {
     "name": "stdout",
     "output_type": "stream",
     "text": [
      "Red Action: ExploitRemoteService 10.0.186.206\n",
      "----------------------------------------------------------------------------\n",
      "{'10.0.186.193': {'Interface': [{'IP Address': IPv4Address('10.0.186.193')}],\n",
      "                  'Processes': [{'Connections': [{'local_address': IPv4Address('10.0.186.193'),\n",
      "                                                  'local_port': 4444,\n",
      "                                                  'remote_address': IPv4Address('10.0.186.206'),\n",
      "                                                  'remote_port': 52623}],\n",
      "                                 'Process Type': <ProcessType.REVERSE_SESSION_HANDLER: 10>}]},\n",
      " '10.0.186.206': {'Interface': [{'IP Address': IPv4Address('10.0.186.206')}],\n",
      "                  'Processes': [{'Connections': [{'Status': <ProcessState.OPEN: 2>,\n",
      "                                                  'local_address': IPv4Address('10.0.186.206'),\n",
      "                                                  'local_port': 80}],\n",
      "                                 'Process Type': <ProcessType.WEBSERVER: 7>},\n",
      "                                {'Connections': [{'local_address': IPv4Address('10.0.186.206'),\n",
      "                                                  'local_port': 52623,\n",
      "                                                  'remote_address': IPv4Address('10.0.186.193'),\n",
      "                                                  'remote_port': 4444}],\n",
      "                                 'Process Type': <ProcessType.REVERSE_SESSION: 11>}],\n",
      "                  'Sessions': [{'Agent': 'Red',\n",
      "                                'ID': 1,\n",
      "                                'Type': <SessionType.RED_REVERSE_SHELL: 11>}],\n",
      "                  'System info': {'Hostname': 'User3',\n",
      "                                  'OSType': <OperatingSystemType.LINUX: 3>}},\n",
      " 'success': <TrinaryEnum.TRUE: 1>}\n",
      "----------------------------------------------------------------------------\n",
      "Blue Observation:\n",
      "............................................................................\n",
      "{'User0': {'Interface': [{'IP Address': IPv4Address('10.0.186.206')}],\n",
      "           'Processes': [{'Connections': [{'local_address': IPv4Address('10.0.186.206'),\n",
      "                                           'remote_address': IPv4Address('10.0.186.193'),\n",
      "                                           'remote_port': 80}]}],\n",
      "           'System info': {'Architecture': <Architecture.x64: 2>,\n",
      "                           'Hostname': 'User0',\n",
      "                           'OSDistribution': <OperatingSystemDistribution.WINDOWS_SVR_2008: 4>,\n",
      "                           'OSType': <OperatingSystemType.WINDOWS: 2>,\n",
      "                           'OSVersion': <OperatingSystemVersion.W6_1_7601: 13>,\n",
      "                           'position': (28, 30)}},\n",
      " 'User3': {'Interface': [{'IP Address': IPv4Address('10.0.186.206')}],\n",
      "           'Processes': [{'Connections': [{'local_address': IPv4Address('10.0.186.206'),\n",
      "                                           'remote_address': IPv4Address('10.0.186.193'),\n",
      "                                           'remote_port': 80}]},\n",
      "                         {'Connections': [{'local_address': IPv4Address('10.0.186.206'),\n",
      "                                           'local_port': 80,\n",
      "                                           'remote_address': IPv4Address('10.0.186.193'),\n",
      "                                           'remote_port': 59922}]},\n",
      "                         {'Connections': [{'local_address': IPv4Address('10.0.186.206'),\n",
      "                                           'local_port': 52623,\n",
      "                                           'remote_address': IPv4Address('10.0.186.193'),\n",
      "                                           'remote_port': 4444}],\n",
      "                          'PID': 1110}],\n",
      "           'System info': {'Architecture': <Architecture.x64: 2>,\n",
      "                           'Hostname': 'User3',\n",
      "                           'OSDistribution': <OperatingSystemDistribution.UBUNTU: 8>,\n",
      "                           'OSType': <OperatingSystemType.LINUX: 3>,\n",
      "                           'OSVersion': <OperatingSystemVersion.U18_04_3: 6>,\n",
      "                           'position': (60, 20)}},\n",
      " 'success': <TrinaryEnum.UNKNOWN: 2>}\n"
     ]
    }
   ],
   "source": [
    "results = step_red(red_obs)\n",
    "red_obs = results.observation\n",
    "\n",
    "blue_obs = env.get_observation('Blue')\n",
    "print(76*'-')\n",
    "print('Blue Observation:')\n",
    "print(76*'.')\n",
    "pprint(blue_obs)"
   ]
  },
  {
   "cell_type": "markdown",
   "metadata": {},
   "source": [
    "Note that there is a 5% chance that Red's exploit fails to register to be detected by Blue."
   ]
  },
  {
   "cell_type": "markdown",
   "metadata": {},
   "source": [
    "The final action in this demo sees Red execute a privilege escalation. Red gets a SYSTEM shell, but Blue is unable to see this activity whatsoever."
   ]
  },
  {
   "cell_type": "code",
   "execution_count": 9,
   "metadata": {},
   "outputs": [
    {
     "name": "stdout",
     "output_type": "stream",
     "text": [
      "Red Action: PrivilegeEscalate User3\n",
      "----------------------------------------------------------------------------\n",
      "{'Enterprise0': {'Interface': [{'IP Address': IPv4Address('10.0.34.4')}]},\n",
      " 'User3': {'Interface': [{'IP Address': IPv4Address('10.0.186.206'),\n",
      "                          'Interface Name': 'eth0',\n",
      "                          'Subnet': IPv4Network('10.0.186.192/28')}],\n",
      "           'Sessions': [{'Agent': 'Red',\n",
      "                         'ID': 1,\n",
      "                         'Type': <SessionType.RED_REVERSE_SHELL: 11>,\n",
      "                         'Username': 'root'}]},\n",
      " 'success': <TrinaryEnum.TRUE: 1>}\n",
      "----------------------------------------------------------------------------\n",
      "Blue Observation:\n",
      "............................................................................\n",
      "{'success': <TrinaryEnum.UNKNOWN: 2>}\n"
     ]
    }
   ],
   "source": [
    "results = step_red(red_obs)\n",
    "red_obs = results.observation\n",
    "\n",
    "blue_obs = env.get_observation('Blue')\n",
    "print(76*'-')\n",
    "print('Blue Observation:')\n",
    "print(76*'.')\n",
    "pprint(blue_obs)"
   ]
  },
  {
   "cell_type": "markdown",
   "metadata": {},
   "source": [
    "Fortunately for Blue, Red's Privilege Escalation leaves malware on the system which can be detected using the Analyse action."
   ]
  },
  {
   "cell_type": "code",
   "execution_count": 10,
   "metadata": {},
   "outputs": [
    {
     "name": "stdout",
     "output_type": "stream",
     "text": [
      "{'User3': {'Files': [{'Density': 0.9,\n",
      "                      'File Name': 'cmd.sh',\n",
      "                      'Known File': <FileType.UNKNOWN: 1>,\n",
      "                      'Known Path': <Path.TEMP: 5>,\n",
      "                      'Path': '/tmp/',\n",
      "                      'Signed': False},\n",
      "                     {'Density': 0.9,\n",
      "                      'File Name': 'escalate.sh',\n",
      "                      'Known File': <FileType.UNKNOWN: 1>,\n",
      "                      'Known Path': <Path.TEMP: 5>,\n",
      "                      'Path': '/tmp/',\n",
      "                      'Signed': False}]},\n",
      " 'success': <TrinaryEnum.TRUE: 1>}\n"
     ]
    }
   ],
   "source": [
    "from CybORG.Simulator.Actions import Analyse\n",
    "\n",
    "host = env.get_last_action('Red').hostname\n",
    "action = Analyse(session=0,agent='Blue',hostname=host)\n",
    "\n",
    "results = env.step(action=action,agent='Blue')\n",
    "\n",
    "pprint(results.observation)"
   ]
  },
  {
   "cell_type": "markdown",
   "metadata": {},
   "source": [
    "Here we see 'User1' has a 'Files' key. The correspending dictionary has been passed through a tool and the 'Density' parameter indicates a high probability this is malware."
   ]
  },
  {
   "cell_type": "code",
   "execution_count": null,
   "metadata": {},
   "outputs": [],
   "source": []
  }
 ],
 "metadata": {
  "kernelspec": {
   "display_name": "Python 3 (ipykernel)",
   "language": "python",
   "name": "python3"
  },
  "language_info": {
   "codemirror_mode": {
    "name": "ipython",
    "version": 3
   },
   "file_extension": ".py",
   "mimetype": "text/x-python",
   "name": "python",
   "nbconvert_exporter": "python",
   "pygments_lexer": "ipython3",
   "version": "3.9.15"
  }
 },
 "nbformat": 4,
 "nbformat_minor": 4
}
